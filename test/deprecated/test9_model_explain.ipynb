{
 "cells": [
  {
   "cell_type": "code",
   "execution_count": null,
   "metadata": {
    "collapsed": true,
    "pycharm": {
     "is_executing": true
    }
   },
   "outputs": [],
   "source": [
    "\"\"\"\n",
    "Model explain\n",
    "\"\"\"\n",
    "from numba import cuda\n",
    "import matplotlib.pyplot as plt\n",
    "from tensorflow import keras\n",
    "from layers.conv import conv2d\n",
    "from layers.pool import max_pool\n",
    "from layers import relu, softmax\n",
    "from layers import dense\n",
    "from layers import flatten\n",
    "import time\n",
    "\n",
    "conv1 = conv2d((1,28,28), output_channel=32, kernel_size=3)\n",
    "activ1 = relu((3, 26, 26))\n",
    "pool1 = max_pool(input_dim=(32,26,26), kernel_size=2)\n",
    "conv2 = conv2d((32,13,13), output_channel=32, kernel_size=3)\n",
    "activ2 = relu((32, 11, 11))\n",
    "pool2 = max_pool(input_dim=(32,11,11), kernel_size=3)\n",
    "activ3 = relu((32, 4, 4))\n",
    "flat = flatten((32, 4, 4))\n",
    "linear_layer = dense(32*4*4, 10)\n",
    "softmax_layer = softmax(10)\n",
    "\n",
    "\n",
    "fashion_mnist = keras.datasets.fashion_mnist\n",
    "(train_images, train_labels), (test_images, test_labels) = fashion_mnist.load_data()\n",
    "\n",
    "# origin = np.random.randn(3, 28, 28).astype(np.float32)\n",
    "input_image = train_images[0, :, :].reshape(1,28,28) / 255\n",
    "input_image_gpu = cuda.to_device(input_image)\n",
    "\n",
    "\n",
    "t_start = time.time()\n",
    "\n",
    "out1_conv = conv1.forward(input_image_gpu)\n",
    "out1_activ = activ1.forward(out1_conv)\n",
    "out1_pool = pool1.forward(out1_activ)\n",
    "\n",
    "\n",
    "out2_conv = conv2.forward(out1_pool)\n",
    "out2_activ = activ2.forward(out2_conv)\n",
    "out2_pool = pool2.forward(out2_activ)\n",
    "\n",
    "out3_activ = activ3.forward(out2_pool)\n",
    "out3_flat = flat.forward(out3_activ)\n",
    "out3_linear = linear_layer.forward(out3_flat)\n",
    "out3_softmax = softmax_layer.forward(out3_linear)\n",
    "\n",
    "t_duration = time.time() - t_start\n",
    "\n",
    "plt.title('input')\n",
    "plt.imshow(input_image[0,:,:])\n",
    "plt.show()\n",
    "plt.title('conv1')\n",
    "plt.imshow(out1_conv [0,:,:])\n",
    "plt.show()\n",
    "plt.title('relu1')\n",
    "plt.imshow(out1_activ[0,:,:])\n",
    "plt.show()\n",
    "plt.title('max_pool1')\n",
    "plt.imshow(out1_pool [0,:,:])\n",
    "plt.show()\n",
    "plt.title('conv2')\n",
    "plt.imshow(out2_conv[0,:,:])\n",
    "plt.show()\n",
    "plt.title('relu2')\n",
    "plt.imshow(out2_activ[0,:,:])\n",
    "plt.show()\n",
    "plt.title('max_pool2')\n",
    "plt.imshow(out2_pool[0,:,:])\n",
    "plt.show()\n",
    "plt.title('relu3')\n",
    "plt.imshow(out3_activ[0,:,:])\n",
    "plt.show()\n",
    "\n",
    "print('[ dense ]', out3_linear.copy_to_host())\n",
    "print('[ softmax ]', out3_softmax.copy_to_host())\n",
    "print('[ time ]', t_duration)"
   ]
  },
  {
   "cell_type": "code",
   "execution_count": null,
   "outputs": [],
   "source": [
    "\n"
   ],
   "metadata": {
    "collapsed": false,
    "pycharm": {
     "name": "#%%\n"
    }
   }
  }
 ],
 "metadata": {
  "kernelspec": {
   "display_name": "Python 3",
   "language": "python",
   "name": "python3"
  },
  "language_info": {
   "codemirror_mode": {
    "name": "ipython",
    "version": 2
   },
   "file_extension": ".py",
   "mimetype": "text/x-python",
   "name": "python",
   "nbconvert_exporter": "python",
   "pygments_lexer": "ipython2",
   "version": "2.7.6"
  }
 },
 "nbformat": 4,
 "nbformat_minor": 0
}